{
 "cells": [
  {
   "cell_type": "markdown",
   "id": "78a3b2f8-0171-4c43-bf92-89340a715152",
   "metadata": {},
   "source": [
    "## NumPy Array Indexing\n",
    "\n",
    "We can access an array element by reffering tio its index number. Index in NumPy starts from 0\n"
   ]
  },
  {
   "cell_type": "code",
   "execution_count": 2,
   "id": "3bc77c04-47ef-4a73-aa55-1977c07a1d39",
   "metadata": {},
   "outputs": [
    {
     "name": "stdout",
     "output_type": "stream",
     "text": [
      "3\n"
     ]
    }
   ],
   "source": [
    "import numpy as np\n",
    "\n",
    "arr=np.array([1,2,3,4])\n",
    "\n",
    "print(arr[2])"
   ]
  },
  {
   "cell_type": "code",
   "execution_count": 3,
   "id": "3053990c-dd14-4148-a02a-a83a50fcfa36",
   "metadata": {},
   "outputs": [
    {
     "name": "stdout",
     "output_type": "stream",
     "text": [
      "6\n"
     ]
    }
   ],
   "source": [
    "import numpy as np\n",
    "\n",
    "arr=np.array([1,2,3,4])\n",
    "\n",
    "print(arr[1]+arr[3])"
   ]
  },
  {
   "cell_type": "markdown",
   "id": "8f0c6fff-7ea0-4f9d-bff5-2d0f3704e4ee",
   "metadata": {},
   "source": [
    "## 2 D Arrays\n",
    "\n",
    "2 D arrays are rows and columns, where the dimensions represent the row and index represents the column)"
   ]
  },
  {
   "cell_type": "code",
   "execution_count": 7,
   "id": "f32b27a2-9fb9-4476-a903-89d6cae80ff7",
   "metadata": {},
   "outputs": [
    {
     "name": "stdout",
     "output_type": "stream",
     "text": [
      "2\n",
      "<class 'numpy.ndarray'>\n",
      "second element of 2nd row is :  7\n",
      "fifth element of 2nd row: 10\n"
     ]
    }
   ],
   "source": [
    "import numpy as np\n",
    "\n",
    "arr = np.array([[1,2,3,4,5],[6,7,8,9,10]])\n",
    "\n",
    "print(arr.ndim)\n",
    "print(type(arr))\n",
    "print(\"second element of 2nd row is : \", arr[1,1])\n",
    "print(\"fifth element of 2nd row:\", arr[1,4])"
   ]
  },
  {
   "cell_type": "markdown",
   "id": "411b7054-dfd9-4b35-a108-fa3af8135bc0",
   "metadata": {},
   "source": [
    "## 3 D Arrays\n",
    "\n",
    "Comma seperated integers representing the dimensions and the index of the element\n"
   ]
  },
  {
   "cell_type": "code",
   "execution_count": 10,
   "id": "9537d7d1-f26e-4f31-b948-b1456dc3da37",
   "metadata": {},
   "outputs": [
    {
     "name": "stdout",
     "output_type": "stream",
     "text": [
      "6\n",
      "3\n"
     ]
    }
   ],
   "source": [
    "import numpy as np\n",
    "\n",
    "arr= np.array([[[1,2,3],[4,5,6]],[[7,8,9],[10,11,12]]])\n",
    "\n",
    "print(arr[0,1,2]) # o for first dimension(rows) [1,2,3],[4,5,6]\n",
    "                  # 1 for second dimension which has 2 arrays [4,5,6]\n",
    "                  # 2 for third dimension [6]\n",
    "\n",
    "print(arr.ndim)"
   ]
  },
  {
   "cell_type": "markdown",
   "id": "eab7b1bd-ca9e-414c-8c50-9311f8b72cb9",
   "metadata": {},
   "source": [
    "## Negative indexing\n",
    "\n",
    " Starts from the end with -1"
   ]
  },
  {
   "cell_type": "code",
   "execution_count": 12,
   "id": "dc329958-76b2-436a-888f-b668b2c2f495",
   "metadata": {},
   "outputs": [
    {
     "name": "stdout",
     "output_type": "stream",
     "text": [
      "5\n"
     ]
    }
   ],
   "source": [
    "import numpy as np\n",
    "\n",
    "arr= np.array([[1,2,3],[4,5,6]])\n",
    "\n",
    "print(arr[1,-2])\n",
    "print()"
   ]
  },
  {
   "cell_type": "code",
   "execution_count": null,
   "id": "22386048-34dc-4765-b63b-8887816d963d",
   "metadata": {},
   "outputs": [],
   "source": []
  }
 ],
 "metadata": {
  "kernelspec": {
   "display_name": "Python 3 (ipykernel)",
   "language": "python",
   "name": "python3"
  },
  "language_info": {
   "codemirror_mode": {
    "name": "ipython",
    "version": 3
   },
   "file_extension": ".py",
   "mimetype": "text/x-python",
   "name": "python",
   "nbconvert_exporter": "python",
   "pygments_lexer": "ipython3",
   "version": "3.10.9"
  }
 },
 "nbformat": 4,
 "nbformat_minor": 5
}
