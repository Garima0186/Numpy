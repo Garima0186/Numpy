{
 "cells": [
  {
   "cell_type": "markdown",
   "id": "b5ecea96-4e46-4422-ad86-446b3c1cf112",
   "metadata": {},
   "source": [
    "## NumPy Slicing\n",
    "\n",
    "[start: end]\n",
    "[start:end:step]"
   ]
  },
  {
   "cell_type": "code",
   "execution_count": 4,
   "id": "9a180853-8d7d-45cc-8218-fde402096e21",
   "metadata": {},
   "outputs": [
    {
     "name": "stdout",
     "output_type": "stream",
     "text": [
      "[2 3 4 5]\n"
     ]
    }
   ],
   "source": [
    "# slice elements from index 1 to 5\n",
    "\n",
    "import numpy as np\n",
    "\n",
    "arr=np.array([1,2,3,4,5,6,7,8,9])\n",
    "\n",
    "print(arr[1:5])"
   ]
  },
  {
   "cell_type": "code",
   "execution_count": 5,
   "id": "e25929a3-5ab4-4975-afd5-bdccfaf8e8db",
   "metadata": {},
   "outputs": [
    {
     "name": "stdout",
     "output_type": "stream",
     "text": [
      "[1 2 3 4 5 6 7 8 9]\n"
     ]
    }
   ],
   "source": [
    "# print start to end\n",
    "\n",
    "import numpy as np\n",
    "\n",
    "arr=np.array([1,2,3,4,5,6,7,8,9])\n",
    "\n",
    "print(arr[0:])"
   ]
  },
  {
   "cell_type": "code",
   "execution_count": 8,
   "id": "0686ae84-2277-4ba5-a8c0-c876aad23c7d",
   "metadata": {},
   "outputs": [
    {
     "name": "stdout",
     "output_type": "stream",
     "text": [
      "[6 7 8]\n",
      "[3 4 5 6 7 8]\n"
     ]
    }
   ],
   "source": [
    "# negative slicing\n",
    "\n",
    "import numpy as np\n",
    "\n",
    "arr= np.array([1,2,3,4,5,6,7,8,9])\n",
    "\n",
    "print(arr[-4:-1])\n",
    "print(arr[-7:-1])"
   ]
  },
  {
   "cell_type": "code",
   "execution_count": 10,
   "id": "7e902a47-ebb3-4360-bdd5-5eeda6214984",
   "metadata": {},
   "outputs": [
    {
     "name": "stdout",
     "output_type": "stream",
     "text": [
      "[2 4 6]\n"
     ]
    }
   ],
   "source": [
    "# step\n",
    "\n",
    "import numpy as np\n",
    "\n",
    "arr= np.array([1,2,3,4,5,6,7,8,9])\n",
    "\n",
    "print(arr[1:6:2])"
   ]
  },
  {
   "cell_type": "code",
   "execution_count": 13,
   "id": "f711ac77-f8a7-4d00-8d48-953d3812eab2",
   "metadata": {},
   "outputs": [
    {
     "name": "stdout",
     "output_type": "stream",
     "text": [
      "[1 3 5 7 9]\n",
      "[1 4 7]\n"
     ]
    }
   ],
   "source": [
    "# return every other elemet from the array\n",
    "\n",
    "import numpy as np\n",
    "\n",
    "arr= np.array([1,2,3,4,5,6,7,8,9])\n",
    "\n",
    "print(arr[0: :2])\n",
    "print(arr[0: :3])\n"
   ]
  },
  {
   "cell_type": "code",
   "execution_count": 21,
   "id": "ca6d7d8f-bd4f-425f-9360-5a5f142f33bf",
   "metadata": {},
   "outputs": [
    {
     "name": "stdout",
     "output_type": "stream",
     "text": [
      "[11 12 13 14]\n",
      "[ 4 13]\n",
      "[[ 2  3  4  5]\n",
      " [11 12 13 14]]\n",
      "2\n"
     ]
    }
   ],
   "source": [
    "# Slicing 2 d array\n",
    "\n",
    "#From the second element, slice elements from index 1 to index 5 \n",
    "#From both elements, return index 3\n",
    "#From both elements, slice index 1 to index 5, this will return a 2-D array\n",
    "\n",
    "import numpy as np\n",
    "\n",
    "arr=np.array([[1,2,3,4,5,6,7,8,9],[10,11,12,13,14,15,16,17,18]])\n",
    "\n",
    "print(arr[1,1:5])  # ( first dimension  and second are elements)\n",
    "print(arr[0:2,3])\n",
    "print(arr[0:2,1:5])\n",
    "print(arr.ndim)"
   ]
  },
  {
   "cell_type": "code",
   "execution_count": null,
   "id": "932d9042-70ee-4dfd-a809-84dce32a9e96",
   "metadata": {},
   "outputs": [],
   "source": []
  }
 ],
 "metadata": {
  "kernelspec": {
   "display_name": "Python 3 (ipykernel)",
   "language": "python",
   "name": "python3"
  },
  "language_info": {
   "codemirror_mode": {
    "name": "ipython",
    "version": 3
   },
   "file_extension": ".py",
   "mimetype": "text/x-python",
   "name": "python",
   "nbconvert_exporter": "python",
   "pygments_lexer": "ipython3",
   "version": "3.10.9"
  }
 },
 "nbformat": 4,
 "nbformat_minor": 5
}
