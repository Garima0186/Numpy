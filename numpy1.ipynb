{
 "cells": [
  {
   "cell_type": "markdown",
   "id": "a493cb37-6e7e-43da-a403-480ff43d9441",
   "metadata": {},
   "source": [
    "# Numpy\n",
    "\n",
    "#### Array is display the items in a particular way\n",
    "\n",
    "#### Array object in Numpy is called ndarray\n",
    "\n",
    "#### Numpy arrays are stored at one continous place in memory  so it can access easily and that behaviour is xalled Locality of reference.\n",
    "\n",
    "#### Thats why they are faster than Lists\n",
    "\n",
    "#### Numpy source code is located at the github repository  https://github.com/numpy/numpy\n"
   ]
  },
  {
   "cell_type": "code",
   "execution_count": 1,
   "id": "5a126a2f-8e78-4731-9140-73c8729abeaa",
   "metadata": {},
   "outputs": [],
   "source": [
    "# Import numpy\n",
    "\n",
    "import numpy"
   ]
  },
  {
   "cell_type": "code",
   "execution_count": 2,
   "id": "7bdd54e6-ed7b-4694-b733-27c369d1ba89",
   "metadata": {},
   "outputs": [
    {
     "name": "stdout",
     "output_type": "stream",
     "text": [
      "[1 2 3 4 5]\n"
     ]
    }
   ],
   "source": [
    "# example\n",
    "\n",
    "import numpy\n",
    "\n",
    "arr=numpy.array([1,2,3,4,5])\n",
    "\n",
    "print(arr)"
   ]
  },
  {
   "cell_type": "code",
   "execution_count": 3,
   "id": "3673ec04-0c22-4d1a-855b-9e6be30629c8",
   "metadata": {},
   "outputs": [
    {
     "name": "stdout",
     "output_type": "stream",
     "text": [
      "[1 2 3 4 5]\n"
     ]
    }
   ],
   "source": [
    "# numpy as np  ( alias is the alternate name to refer samething)\n",
    "\n",
    "import numpy as np\n",
    "\n",
    "arr= np.array([1,2,3,4,5])\n",
    "\n",
    "print(arr)"
   ]
  },
  {
   "cell_type": "code",
   "execution_count": 4,
   "id": "1d8dcbcc-5483-4ccb-8fd7-4e10bcb9659a",
   "metadata": {},
   "outputs": [
    {
     "name": "stdout",
     "output_type": "stream",
     "text": [
      "1.23.5\n"
     ]
    }
   ],
   "source": [
    "# checking numpy version\n",
    "\n",
    "import numpy as np\n",
    "\n",
    "print(np.__version__)"
   ]
  },
  {
   "cell_type": "markdown",
   "id": "8a2141ce-fe35-4b6c-86e0-dc44596661fc",
   "metadata": {},
   "source": [
    "# NumPy creating Arrays\n",
    "\n",
    "### the array object in numpy is called ndarray\n",
    "\n",
    "### we create NumPy ndarray object by using the array() function."
   ]
  },
  {
   "cell_type": "code",
   "execution_count": null,
   "id": "ddc93861-c3f1-4048-807a-cf15ac9478ce",
   "metadata": {},
   "outputs": [],
   "source": []
  },
  {
   "cell_type": "code",
   "execution_count": 10,
   "id": "ae519a8f-a00c-4542-b5c5-2f5c1d065622",
   "metadata": {},
   "outputs": [
    {
     "name": "stdout",
     "output_type": "stream",
     "text": [
      "[1 2 3 4 5]\n",
      "<class 'numpy.ndarray'>\n"
     ]
    }
   ],
   "source": [
    "import numpy as np\n",
    "\n",
    "arr= np.array([1,2,3,4,5])\n",
    "print(arr)\n",
    "print(type(arr))\n"
   ]
  },
  {
   "cell_type": "code",
   "execution_count": 11,
   "id": "bac80a43-3104-409e-878b-3b49822b61e7",
   "metadata": {},
   "outputs": [
    {
     "name": "stdout",
     "output_type": "stream",
     "text": [
      "<class 'tuple'>\n"
     ]
    }
   ],
   "source": [
    "arr1=(1,2,3)\n",
    "print(type(arr1))"
   ]
  },
  {
   "cell_type": "code",
   "execution_count": 13,
   "id": "65a48f74-18ab-4c01-9c5e-e5bbd7e1f49d",
   "metadata": {},
   "outputs": [
    {
     "name": "stdout",
     "output_type": "stream",
     "text": [
      "<class 'numpy.ndarray'>\n"
     ]
    }
   ],
   "source": [
    "import numpy as np\n",
    "\n",
    "arr1=np.array((1,2,3))\n",
    "print(type(arr1))\n"
   ]
  },
  {
   "cell_type": "markdown",
   "id": "d22efe2c-2409-4fd0-a3b5-a73d4b179a4f",
   "metadata": {},
   "source": [
    "## Dimensions in arrays"
   ]
  },
  {
   "cell_type": "code",
   "execution_count": 14,
   "id": "0601f9d5-bf98-4c42-b8e5-cb13ac74e393",
   "metadata": {},
   "outputs": [
    {
     "name": "stdout",
     "output_type": "stream",
     "text": [
      "56\n"
     ]
    }
   ],
   "source": [
    "# o D arrays\n",
    "\n",
    "import numpy as np\n",
    "\n",
    "arr=np.array(56)\n",
    "print(arr)"
   ]
  },
  {
   "cell_type": "code",
   "execution_count": 15,
   "id": "a135265c-7f01-49b7-863b-9046b4cfc7f6",
   "metadata": {},
   "outputs": [
    {
     "name": "stdout",
     "output_type": "stream",
     "text": [
      "[1 2 3 4 5]\n"
     ]
    }
   ],
   "source": [
    "# 1 D array\n",
    "\n",
    "import numpy as np\n",
    "\n",
    "arr=np.array([1,2,3,4,5])\n",
    "\n",
    "print(arr)"
   ]
  },
  {
   "cell_type": "code",
   "execution_count": 20,
   "id": "c77a98b2-e8d9-45da-beae-918b142d6c35",
   "metadata": {},
   "outputs": [
    {
     "name": "stdout",
     "output_type": "stream",
     "text": [
      "[[ 1  2  3  4  5]\n",
      " [ 6  7  8  9 10]]\n"
     ]
    }
   ],
   "source": [
    "# 2 D Arrays ( 2nd order tensors)\n",
    "\n",
    "import numpy as np\n",
    "\n",
    "arr=np.array([[1,2,3,4,5],[6,7,8,9,10]])\n",
    "\n",
    "print(arr)"
   ]
  },
  {
   "cell_type": "code",
   "execution_count": 54,
   "id": "adf3bd8b-ad2d-45e7-bc30-b5f8c2f11cdb",
   "metadata": {},
   "outputs": [
    {
     "name": "stdout",
     "output_type": "stream",
     "text": [
      "[[[ 1  2  3  4  5]\n",
      "  [ 6  7  8  9 10]]\n",
      "\n",
      " [[11 12 13 14 15]\n",
      "  [16 17 18 19 20]]]\n"
     ]
    }
   ],
   "source": [
    "# 3 D array ( 3rd order tensors)\n",
    "\n",
    "import numpy as np\n",
    "\n",
    "arr=np.array([[[1,2,3,4,5],[6,7,8,9,10]],[[11,12,13,14,15],[16,17,18,19,20]]])\n",
    "\n",
    "print(arr)\n"
   ]
  },
  {
   "cell_type": "code",
   "execution_count": 25,
   "id": "8164dcf3-7ec1-4cf7-82b0-3e457e70ce92",
   "metadata": {},
   "outputs": [
    {
     "name": "stdout",
     "output_type": "stream",
     "text": [
      "0\n",
      "1\n",
      "2\n",
      "3\n"
     ]
    }
   ],
   "source": [
    "# check the number of dimensions\n",
    "\n",
    "import numpy as np \n",
    "\n",
    "a=np.array(56)\n",
    "b=np.array([1,2,3,4,5])\n",
    "c=np.array([[1,2,3,4,5],[6,7,8,9,10]])\n",
    "d=np.array([[[1,2,3,4,5],[6,7,8,9,10]],[[11,12,13,14,15],[16,17,18,19,20]]])\n",
    "\n",
    "print(a.ndim)\n",
    "print(b.ndim)\n",
    "print(c.ndim)\n",
    "print(d.ndim)"
   ]
  },
  {
   "cell_type": "code",
   "execution_count": 34,
   "id": "aad91d6f-5e6b-46f9-8399-fb3de9954d2e",
   "metadata": {},
   "outputs": [
    {
     "name": "stdout",
     "output_type": "stream",
     "text": [
      "[[[[[1 2 3 4]]]]]\n",
      "[[[[1 2 3 4]]]]\n",
      "[[[1 2 3 4]]]\n",
      "[[1 2 3 4]]\n",
      "[1 2 3 4]\n"
     ]
    }
   ],
   "source": [
    "# defining number of dimensions ndmin\n",
    "\n",
    "import numpy as np \n",
    "\n",
    "arr1= np.array([1,2,3,4],ndmin=5)\n",
    "arr2=np.array([1,2,3,4], ndmin=4)\n",
    "arr3=np.array([1,2,3,4], ndmin=3)\n",
    "arr4=np.array([1,2,3,4], ndmin=2)\n",
    "arr5=np.array([1,2,3,4], ndmin=1)\n",
    "\n",
    "\n",
    "print(arr1)\n",
    "print(arr2)\n",
    "print(arr3)\n",
    "print(arr4)\n",
    "print(arr5)\n",
    "#print(\" Number of Dimensions: \", arr.ndim)"
   ]
  },
  {
   "cell_type": "markdown",
   "id": "b746e297-1985-40e2-ab2d-67162fac665a",
   "metadata": {},
   "source": [
    "### the innermost dimension (5th dim) has 4 elements\n",
    "### the 4 th dim has 1 element that is the vector\n",
    "### the 3 rd dim has 1 element that is a marix with vector\n",
    "### the 2nd dim has 1 element that is the 3d array\n",
    "### the first dimension has 1 element that is the 4d array\n",
    "\n",
    "### vector:  single dimentional or one-dimensional array as a list\n",
    "\n",
    "### Matrix: matrix is the 2 D data structure where numbers are arraged inn row and columns\n",
    "\n",
    "### 3 D array : Multi dimensional array \" arrays of arrays( Block size, row size, column size)( an array of 2 D array)\n",
    "\n",
    "### 4 D array: an array of 3 D array"
   ]
  },
  {
   "cell_type": "code",
   "execution_count": 36,
   "id": "702b0fcf-1f6b-4055-badb-b8d904a23f2d",
   "metadata": {},
   "outputs": [
    {
     "name": "stdout",
     "output_type": "stream",
     "text": [
      "[1 2 3 4]\n",
      "1\n"
     ]
    }
   ],
   "source": [
    "import numpy as np\n",
    "\n",
    "arr=np.array([1,2,3,4])\n",
    "print(arr)\n",
    "print(arr.ndim)"
   ]
  },
  {
   "cell_type": "code",
   "execution_count": 38,
   "id": "86e4c174-6a2a-410f-87e6-3fcce5a86e60",
   "metadata": {},
   "outputs": [
    {
     "name": "stdout",
     "output_type": "stream",
     "text": [
      "[[1 2 3 4]\n",
      " [1 2 3 4]]\n",
      "2\n"
     ]
    }
   ],
   "source": [
    "import numpy as np\n",
    "\n",
    "arr=np.array([[1,2,3,4], [1,2,3,4]])\n",
    "print(arr)\n",
    "print(arr.ndim)"
   ]
  },
  {
   "cell_type": "code",
   "execution_count": 40,
   "id": "2712d612-b656-4eda-b58f-3fc3de3bc160",
   "metadata": {},
   "outputs": [
    {
     "name": "stdout",
     "output_type": "stream",
     "text": [
      "[[[1 2 3 4]]]\n",
      "3\n"
     ]
    }
   ],
   "source": [
    "import numpy as np\n",
    "\n",
    "arr=np.array([[[1,2,3,4]]])\n",
    "\n",
    "print(arr)\n",
    "print(arr.ndim)"
   ]
  },
  {
   "cell_type": "code",
   "execution_count": 53,
   "id": "c96b6af1-8cc6-404a-8792-e50fc88831f8",
   "metadata": {},
   "outputs": [
    {
     "name": "stdout",
     "output_type": "stream",
     "text": [
      "[[[[1 2 3 4]]]]\n",
      "4\n"
     ]
    }
   ],
   "source": [
    "import numpy as np\n",
    "\n",
    "arr=np.array([[[[1,2,3,4]]]])\n",
    "print(arr)\n",
    "print(arr.ndim)"
   ]
  },
  {
   "cell_type": "code",
   "execution_count": null,
   "id": "2c769cce-3859-44bc-af3b-fe0607663117",
   "metadata": {},
   "outputs": [],
   "source": []
  }
 ],
 "metadata": {
  "kernelspec": {
   "display_name": "Python 3 (ipykernel)",
   "language": "python",
   "name": "python3"
  },
  "language_info": {
   "codemirror_mode": {
    "name": "ipython",
    "version": 3
   },
   "file_extension": ".py",
   "mimetype": "text/x-python",
   "name": "python",
   "nbconvert_exporter": "python",
   "pygments_lexer": "ipython3",
   "version": "3.10.9"
  }
 },
 "nbformat": 4,
 "nbformat_minor": 5
}
